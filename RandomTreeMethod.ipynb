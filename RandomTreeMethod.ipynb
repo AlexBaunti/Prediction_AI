{
  "nbformat": 4,
  "nbformat_minor": 0,
  "metadata": {
    "colab": {
      "provenance": [],
      "authorship_tag": "ABX9TyNc4YUhcM7maHexoeiv1Ahb",
      "include_colab_link": true
    },
    "kernelspec": {
      "name": "python3",
      "display_name": "Python 3"
    },
    "language_info": {
      "name": "python"
    }
  },
  "cells": [
    {
      "cell_type": "markdown",
      "metadata": {
        "id": "view-in-github",
        "colab_type": "text"
      },
      "source": [
        "<a href=\"https://colab.research.google.com/github/AlexBaunti/Prediction_AI/blob/main/RandomTreeMethod.ipynb\" target=\"_parent\"><img src=\"https://colab.research.google.com/assets/colab-badge.svg\" alt=\"Open In Colab\"/></a>"
      ]
    },
    {
      "cell_type": "markdown",
      "source": [
        "# Метод решающих деревьев"
      ],
      "metadata": {
        "id": "1Uvx3ocimTMn"
      }
    },
    {
      "cell_type": "markdown",
      "source": [
        "**Инициализация библиотек**"
      ],
      "metadata": {
        "id": "wjzVZv0GnJEV"
      }
    },
    {
      "cell_type": "code",
      "execution_count": null,
      "metadata": {
        "id": "cfqnm38Rh1kf"
      },
      "outputs": [],
      "source": [
        "import warnings\n",
        "warnings.simplefilter(action='ignore', category=FutureWarning)\n",
        "import numpy as np # обращение сокращенно np\n",
        "import pandas as pd # обращение сокращенно pd\n",
        "import matplotlib.pyplot as plt # обращение сокращенно plt\n",
        "%matplotlib inline\n",
        "from sklearn import linear_model, ensemble # алгоритмы sklearn\n",
        "from sklearn.metrics import mean_absolute_error, mean_squared_error # меры качества"
      ]
    },
    {
      "cell_type": "markdown",
      "source": [
        "**Загрузка данных**"
      ],
      "metadata": {
        "id": "BY785L59n1Es"
      }
    },
    {
      "cell_type": "code",
      "source": [
        "%%capture\n",
        "!wget https://raw.githubusercontent.com/AlexBaunti/Prediction_AI/main/COVID_Testing_Data.xlsx\n",
        "!wget https://raw.githubusercontent.com/AlexBaunti/Prediction_AI/main/COVID_Training_Data.xlsx\n",
        "training_data = pd.read_excel('COVID_Training_Data.xlsx')"
      ],
      "metadata": {
        "id": "SZBguf0Bn4dy"
      },
      "execution_count": null,
      "outputs": []
    },
    {
      "cell_type": "markdown",
      "source": [
        "Проверка данных - первые 5 строк таблицы с тренировочными данными"
      ],
      "metadata": {
        "id": "3YglV1iwWnjs"
      }
    },
    {
      "cell_type": "code",
      "source": [
        "training_data.head()"
      ],
      "metadata": {
        "colab": {
          "base_uri": "https://localhost:8080/",
          "height": 236
        },
        "id": "NT_HBVY4Wg9t",
        "outputId": "c4edd1df-8870-4fa4-aeb0-bd0d69bc069a"
      },
      "execution_count": null,
      "outputs": [
        {
          "output_type": "execute_result",
          "data": {
            "text/plain": [
              "   Пробиотик  Возраст  Пол  Рост  Вес        ИМТ  ПлощадьТела  ПредраспССЗ  \\\n",
              "0          0       54    2   151   58  25.437481     1.559736            0   \n",
              "1          0       63    2   165  115  42.240588     2.295830            1   \n",
              "2          0       50    2   159   46  18.195483     1.425365            0   \n",
              "3          0       41    2   166   92  33.386558     2.059666            1   \n",
              "4          0       37    2   161   71  27.390919     1.781931            1   \n",
              "\n",
              "   Курение  Алкоголь  ...  МочКислот  Ддимеры  вчСРБ      ХЛНП  ИнАтероген  \\\n",
              "0        0         0  ...        330      120   12.0  3.500000    4.875000   \n",
              "1        0         0  ...        240       85    6.5  4.631818    4.500000   \n",
              "2        0         0  ...        248      100   40.0  3.220909    6.306667   \n",
              "3        0         0  ...        220      125   25.0  2.136364    2.676768   \n",
              "4        0         0  ...        340      177   12.0  2.931818    3.700000   \n",
              "\n",
              "   неХЛВП  ШкБорга  ТестEQ  ТШХдо  ТШХпосле  \n",
              "0    3.90        2      11    300       410  \n",
              "1    5.40        2      13    280       376  \n",
              "2    4.73        2      12    300       350  \n",
              "3    2.65        2      12    300       400  \n",
              "4    3.70        2      13    300       400  \n",
              "\n",
              "[5 rows x 84 columns]"
            ],
            "text/html": [
              "\n",
              "  <div id=\"df-a0d6ca3c-98fd-4c7b-bc8f-3de2d2f5a1e8\">\n",
              "    <div class=\"colab-df-container\">\n",
              "      <div>\n",
              "<style scoped>\n",
              "    .dataframe tbody tr th:only-of-type {\n",
              "        vertical-align: middle;\n",
              "    }\n",
              "\n",
              "    .dataframe tbody tr th {\n",
              "        vertical-align: top;\n",
              "    }\n",
              "\n",
              "    .dataframe thead th {\n",
              "        text-align: right;\n",
              "    }\n",
              "</style>\n",
              "<table border=\"1\" class=\"dataframe\">\n",
              "  <thead>\n",
              "    <tr style=\"text-align: right;\">\n",
              "      <th></th>\n",
              "      <th>Пробиотик</th>\n",
              "      <th>Возраст</th>\n",
              "      <th>Пол</th>\n",
              "      <th>Рост</th>\n",
              "      <th>Вес</th>\n",
              "      <th>ИМТ</th>\n",
              "      <th>ПлощадьТела</th>\n",
              "      <th>ПредраспССЗ</th>\n",
              "      <th>Курение</th>\n",
              "      <th>Алкоголь</th>\n",
              "      <th>...</th>\n",
              "      <th>МочКислот</th>\n",
              "      <th>Ддимеры</th>\n",
              "      <th>вчСРБ</th>\n",
              "      <th>ХЛНП</th>\n",
              "      <th>ИнАтероген</th>\n",
              "      <th>неХЛВП</th>\n",
              "      <th>ШкБорга</th>\n",
              "      <th>ТестEQ</th>\n",
              "      <th>ТШХдо</th>\n",
              "      <th>ТШХпосле</th>\n",
              "    </tr>\n",
              "  </thead>\n",
              "  <tbody>\n",
              "    <tr>\n",
              "      <th>0</th>\n",
              "      <td>0</td>\n",
              "      <td>54</td>\n",
              "      <td>2</td>\n",
              "      <td>151</td>\n",
              "      <td>58</td>\n",
              "      <td>25.437481</td>\n",
              "      <td>1.559736</td>\n",
              "      <td>0</td>\n",
              "      <td>0</td>\n",
              "      <td>0</td>\n",
              "      <td>...</td>\n",
              "      <td>330</td>\n",
              "      <td>120</td>\n",
              "      <td>12.0</td>\n",
              "      <td>3.500000</td>\n",
              "      <td>4.875000</td>\n",
              "      <td>3.90</td>\n",
              "      <td>2</td>\n",
              "      <td>11</td>\n",
              "      <td>300</td>\n",
              "      <td>410</td>\n",
              "    </tr>\n",
              "    <tr>\n",
              "      <th>1</th>\n",
              "      <td>0</td>\n",
              "      <td>63</td>\n",
              "      <td>2</td>\n",
              "      <td>165</td>\n",
              "      <td>115</td>\n",
              "      <td>42.240588</td>\n",
              "      <td>2.295830</td>\n",
              "      <td>1</td>\n",
              "      <td>0</td>\n",
              "      <td>0</td>\n",
              "      <td>...</td>\n",
              "      <td>240</td>\n",
              "      <td>85</td>\n",
              "      <td>6.5</td>\n",
              "      <td>4.631818</td>\n",
              "      <td>4.500000</td>\n",
              "      <td>5.40</td>\n",
              "      <td>2</td>\n",
              "      <td>13</td>\n",
              "      <td>280</td>\n",
              "      <td>376</td>\n",
              "    </tr>\n",
              "    <tr>\n",
              "      <th>2</th>\n",
              "      <td>0</td>\n",
              "      <td>50</td>\n",
              "      <td>2</td>\n",
              "      <td>159</td>\n",
              "      <td>46</td>\n",
              "      <td>18.195483</td>\n",
              "      <td>1.425365</td>\n",
              "      <td>0</td>\n",
              "      <td>0</td>\n",
              "      <td>0</td>\n",
              "      <td>...</td>\n",
              "      <td>248</td>\n",
              "      <td>100</td>\n",
              "      <td>40.0</td>\n",
              "      <td>3.220909</td>\n",
              "      <td>6.306667</td>\n",
              "      <td>4.73</td>\n",
              "      <td>2</td>\n",
              "      <td>12</td>\n",
              "      <td>300</td>\n",
              "      <td>350</td>\n",
              "    </tr>\n",
              "    <tr>\n",
              "      <th>3</th>\n",
              "      <td>0</td>\n",
              "      <td>41</td>\n",
              "      <td>2</td>\n",
              "      <td>166</td>\n",
              "      <td>92</td>\n",
              "      <td>33.386558</td>\n",
              "      <td>2.059666</td>\n",
              "      <td>1</td>\n",
              "      <td>0</td>\n",
              "      <td>0</td>\n",
              "      <td>...</td>\n",
              "      <td>220</td>\n",
              "      <td>125</td>\n",
              "      <td>25.0</td>\n",
              "      <td>2.136364</td>\n",
              "      <td>2.676768</td>\n",
              "      <td>2.65</td>\n",
              "      <td>2</td>\n",
              "      <td>12</td>\n",
              "      <td>300</td>\n",
              "      <td>400</td>\n",
              "    </tr>\n",
              "    <tr>\n",
              "      <th>4</th>\n",
              "      <td>0</td>\n",
              "      <td>37</td>\n",
              "      <td>2</td>\n",
              "      <td>161</td>\n",
              "      <td>71</td>\n",
              "      <td>27.390919</td>\n",
              "      <td>1.781931</td>\n",
              "      <td>1</td>\n",
              "      <td>0</td>\n",
              "      <td>0</td>\n",
              "      <td>...</td>\n",
              "      <td>340</td>\n",
              "      <td>177</td>\n",
              "      <td>12.0</td>\n",
              "      <td>2.931818</td>\n",
              "      <td>3.700000</td>\n",
              "      <td>3.70</td>\n",
              "      <td>2</td>\n",
              "      <td>13</td>\n",
              "      <td>300</td>\n",
              "      <td>400</td>\n",
              "    </tr>\n",
              "  </tbody>\n",
              "</table>\n",
              "<p>5 rows × 84 columns</p>\n",
              "</div>\n",
              "      <button class=\"colab-df-convert\" onclick=\"convertToInteractive('df-a0d6ca3c-98fd-4c7b-bc8f-3de2d2f5a1e8')\"\n",
              "              title=\"Convert this dataframe to an interactive table.\"\n",
              "              style=\"display:none;\">\n",
              "        \n",
              "  <svg xmlns=\"http://www.w3.org/2000/svg\" height=\"24px\"viewBox=\"0 0 24 24\"\n",
              "       width=\"24px\">\n",
              "    <path d=\"M0 0h24v24H0V0z\" fill=\"none\"/>\n",
              "    <path d=\"M18.56 5.44l.94 2.06.94-2.06 2.06-.94-2.06-.94-.94-2.06-.94 2.06-2.06.94zm-11 1L8.5 8.5l.94-2.06 2.06-.94-2.06-.94L8.5 2.5l-.94 2.06-2.06.94zm10 10l.94 2.06.94-2.06 2.06-.94-2.06-.94-.94-2.06-.94 2.06-2.06.94z\"/><path d=\"M17.41 7.96l-1.37-1.37c-.4-.4-.92-.59-1.43-.59-.52 0-1.04.2-1.43.59L10.3 9.45l-7.72 7.72c-.78.78-.78 2.05 0 2.83L4 21.41c.39.39.9.59 1.41.59.51 0 1.02-.2 1.41-.59l7.78-7.78 2.81-2.81c.8-.78.8-2.07 0-2.86zM5.41 20L4 18.59l7.72-7.72 1.47 1.35L5.41 20z\"/>\n",
              "  </svg>\n",
              "      </button>\n",
              "      \n",
              "  <style>\n",
              "    .colab-df-container {\n",
              "      display:flex;\n",
              "      flex-wrap:wrap;\n",
              "      gap: 12px;\n",
              "    }\n",
              "\n",
              "    .colab-df-convert {\n",
              "      background-color: #E8F0FE;\n",
              "      border: none;\n",
              "      border-radius: 50%;\n",
              "      cursor: pointer;\n",
              "      display: none;\n",
              "      fill: #1967D2;\n",
              "      height: 32px;\n",
              "      padding: 0 0 0 0;\n",
              "      width: 32px;\n",
              "    }\n",
              "\n",
              "    .colab-df-convert:hover {\n",
              "      background-color: #E2EBFA;\n",
              "      box-shadow: 0px 1px 2px rgba(60, 64, 67, 0.3), 0px 1px 3px 1px rgba(60, 64, 67, 0.15);\n",
              "      fill: #174EA6;\n",
              "    }\n",
              "\n",
              "    [theme=dark] .colab-df-convert {\n",
              "      background-color: #3B4455;\n",
              "      fill: #D2E3FC;\n",
              "    }\n",
              "\n",
              "    [theme=dark] .colab-df-convert:hover {\n",
              "      background-color: #434B5C;\n",
              "      box-shadow: 0px 1px 3px 1px rgba(0, 0, 0, 0.15);\n",
              "      filter: drop-shadow(0px 1px 2px rgba(0, 0, 0, 0.3));\n",
              "      fill: #FFFFFF;\n",
              "    }\n",
              "  </style>\n",
              "\n",
              "      <script>\n",
              "        const buttonEl =\n",
              "          document.querySelector('#df-a0d6ca3c-98fd-4c7b-bc8f-3de2d2f5a1e8 button.colab-df-convert');\n",
              "        buttonEl.style.display =\n",
              "          google.colab.kernel.accessAllowed ? 'block' : 'none';\n",
              "\n",
              "        async function convertToInteractive(key) {\n",
              "          const element = document.querySelector('#df-a0d6ca3c-98fd-4c7b-bc8f-3de2d2f5a1e8');\n",
              "          const dataTable =\n",
              "            await google.colab.kernel.invokeFunction('convertToInteractive',\n",
              "                                                     [key], {});\n",
              "          if (!dataTable) return;\n",
              "\n",
              "          const docLinkHtml = 'Like what you see? Visit the ' +\n",
              "            '<a target=\"_blank\" href=https://colab.research.google.com/notebooks/data_table.ipynb>data table notebook</a>'\n",
              "            + ' to learn more about interactive tables.';\n",
              "          element.innerHTML = '';\n",
              "          dataTable['output_type'] = 'display_data';\n",
              "          await google.colab.output.renderOutput(dataTable, element);\n",
              "          const docLink = document.createElement('div');\n",
              "          docLink.innerHTML = docLinkHtml;\n",
              "          element.appendChild(docLink);\n",
              "        }\n",
              "      </script>\n",
              "    </div>\n",
              "  </div>\n",
              "  "
            ]
          },
          "metadata": {},
          "execution_count": 11
        }
      ]
    },
    {
      "cell_type": "markdown",
      "source": [
        "Считывание размерности таблицы с тренировочными данными"
      ],
      "metadata": {
        "id": "EO8g0RsYWsrw"
      }
    },
    {
      "cell_type": "code",
      "source": [
        "training_data.shape"
      ],
      "metadata": {
        "colab": {
          "base_uri": "https://localhost:8080/"
        },
        "id": "yHHIS5TUWc4N",
        "outputId": "6244023e-bfd6-4d40-fe30-507457e01686"
      },
      "execution_count": null,
      "outputs": [
        {
          "output_type": "execute_result",
          "data": {
            "text/plain": [
              "(64, 84)"
            ]
          },
          "metadata": {},
          "execution_count": 12
        }
      ]
    },
    {
      "cell_type": "markdown",
      "source": [
        "**Проверка данных на пропуски и типы переменных**\n",
        "\n",
        "Общая информация о данных"
      ],
      "metadata": {
        "id": "rLT73ArhkJfn"
      }
    },
    {
      "cell_type": "code",
      "source": [
        "training_data.info()"
      ],
      "metadata": {
        "colab": {
          "base_uri": "https://localhost:8080/"
        },
        "id": "IClfjRxXXCXU",
        "outputId": "83272559-5f7d-4ddf-df2b-161079c08a60"
      },
      "execution_count": null,
      "outputs": [
        {
          "output_type": "stream",
          "name": "stdout",
          "text": [
            "<class 'pandas.core.frame.DataFrame'>\n",
            "RangeIndex: 64 entries, 0 to 63\n",
            "Data columns (total 84 columns):\n",
            " #   Column          Non-Null Count  Dtype  \n",
            "---  ------          --------------  -----  \n",
            " 0   Пробиотик       64 non-null     int64  \n",
            " 1   Возраст         64 non-null     int64  \n",
            " 2   Пол             64 non-null     int64  \n",
            " 3   Рост            64 non-null     int64  \n",
            " 4   Вес             64 non-null     int64  \n",
            " 5   ИМТ             64 non-null     float64\n",
            " 6   ПлощадьТела     64 non-null     float64\n",
            " 7   ПредраспССЗ     64 non-null     int64  \n",
            " 8   Курение         64 non-null     int64  \n",
            " 9   Алкоголь        64 non-null     int64  \n",
            " 10  Гиподинамия     64 non-null     int64  \n",
            " 11  КТ              64 non-null     int64  \n",
            " 12  ДеньПослеCovid  64 non-null     int64  \n",
            " 13  СлабостьДо      64 non-null     int64  \n",
            " 14  БольСердцаДо    64 non-null     int64  \n",
            " 15  Седцебиение     64 non-null     int64  \n",
            " 16  ПеребоиДо       64 non-null     int64  \n",
            " 17  ОдышкаДо        64 non-null     int64  \n",
            " 18  Кашель          64 non-null     int64  \n",
            " 19  ГоловБоль       64 non-null     int64  \n",
            " 20  НарушСна        64 non-null     int64  \n",
            " 21  Тошнота         64 non-null     int64  \n",
            " 22  Запор           64 non-null     int64  \n",
            " 23  Диарея          64 non-null     int64  \n",
            " 24  Метеоризм       64 non-null     int64  \n",
            " 25  пробГенчи       64 non-null     int64  \n",
            " 26  пробШтанге      64 non-null     int64  \n",
            " 27  mMRS            64 non-null     int64  \n",
            " 28  Сатурация       64 non-null     int64  \n",
            " 29  АДС             64 non-null     int64  \n",
            " 30  АДД             64 non-null     int64  \n",
            " 31  ЧСС             64 non-null     int64  \n",
            " 32  ЖЕЛ             64 non-null     int64  \n",
            " 33  ОФВ             64 non-null     int64  \n",
            " 34  пробТиффно      64 non-null     int64  \n",
            " 35  ПСВД            64 non-null     int64  \n",
            " 36  ОФСВ50          63 non-null     float64\n",
            " 37  ОФСВ25          64 non-null     int64  \n",
            " 38  СОСВ            64 non-null     int64  \n",
            " 39  Гемоглобин      64 non-null     int64  \n",
            " 40  Эритроциты      64 non-null     float64\n",
            " 41  Лейкоциты       64 non-null     float64\n",
            " 42  Лимфоциты       64 non-null     int64  \n",
            " 43  Эозинофилы      64 non-null     int64  \n",
            " 44  СОЭоз           64 non-null     int64  \n",
            " 45  ПЯДнейт         64 non-null     int64  \n",
            " 46  СЯДнейт         64 non-null     float64\n",
            " 47  Моноциты        64 non-null     float64\n",
            " 48  ЛейкИнИ         64 non-null     float64\n",
            " 49  ЯдИн            64 non-null     float64\n",
            " 50  ИнСЛК           64 non-null     float64\n",
            " 51  ЛейкИн          64 non-null     float64\n",
            " 52  ИнСЛимфЭоз      64 non-null     float64\n",
            " 53  ИнАлл           64 non-null     float64\n",
            " 54  ИнСНейтЛимф     64 non-null     float64\n",
            " 55  ЛимфГранИн      64 non-null     float64\n",
            " 56  РеакцАдапт      64 non-null     object \n",
            " 57  УрРеакт         64 non-null     object \n",
            " 58  Глюкоза         64 non-null     float64\n",
            " 59  Фибрин          64 non-null     float64\n",
            " 60  Холестерин      64 non-null     float64\n",
            " 61  ХЛВП            64 non-null     float64\n",
            " 62  Триглицер       64 non-null     float64\n",
            " 63  ОбщБелок        51 non-null     float64\n",
            " 64  Альбумины       51 non-null     float64\n",
            " 65  ГамГТ           34 non-null     float64\n",
            " 66  ЩелФосф         34 non-null     float64\n",
            " 67  Мочевина        64 non-null     float64\n",
            " 68  Креатинин       64 non-null     float64\n",
            " 69  СКФ             64 non-null     float64\n",
            " 70  АспарТ          64 non-null     float64\n",
            " 71  АланинТ         64 non-null     float64\n",
            " 72  АЧТВрем         64 non-null     float64\n",
            " 73  МНОтн           64 non-null     float64\n",
            " 74  МочКислот       64 non-null     int64  \n",
            " 75  Ддимеры         64 non-null     int64  \n",
            " 76  вчСРБ           15 non-null     float64\n",
            " 77  ХЛНП            64 non-null     float64\n",
            " 78  ИнАтероген      64 non-null     float64\n",
            " 79  неХЛВП          64 non-null     float64\n",
            " 80  ШкБорга         64 non-null     int64  \n",
            " 81  ТестEQ          64 non-null     int64  \n",
            " 82  ТШХдо           64 non-null     int64  \n",
            " 83  ТШХпосле        64 non-null     int64  \n",
            "dtypes: float64(35), int64(47), object(2)\n",
            "memory usage: 42.1+ KB\n"
          ]
        }
      ]
    },
    {
      "cell_type": "markdown",
      "source": [
        "Анализируем результата выполнения команды:\n",
        "\n",
        "* 64 экземпляра (entries)\n",
        "* 84 столбцов (columns)\n",
        "\n",
        "Имеется всего три различных типа данных (dtypes):\n",
        "\n",
        "* int64 - целое число - 47 столбцов;\n",
        "* float64 - дробное число - 35 столбцов;\n",
        "* object - объект (текст) - 2 столбца;\n",
        "\n",
        "Цифры в каждой строчке обозначают количество заполненных (non-null) значений. Так как эти цифры не в каждой строчке совпадают с числом строк (64), то в данных существуют пропуски, которые необходимо учитывать."
      ],
      "metadata": {
        "id": "x12NCWzXXQUs"
      }
    },
    {
      "cell_type": "markdown",
      "source": [
        "**Разделение входных и выходной переменных**\n",
        "\n",
        "Необходимо спрогнозировать эффективность выздоровление пациента, поэтому целевая переменная - это результат теста шестиминутной ходьбы. Запишем название столбца таблицы, в котором содержится целевая функция, в переменную target_variable_name:"
      ],
      "metadata": {
        "id": "U3zyV78qkwrC"
      }
    },
    {
      "cell_type": "code",
      "source": [
        "target_variable_name = 'ТШХпосле'"
      ],
      "metadata": {
        "id": "2ROUnHJXRrX5"
      },
      "execution_count": null,
      "outputs": []
    },
    {
      "cell_type": "markdown",
      "source": [
        "Теперь выделим в отдельную переменную training_target_variable весь столбец со значениями целевой переменной."
      ],
      "metadata": {
        "id": "IFY3zISwn4PV"
      }
    },
    {
      "cell_type": "code",
      "source": [
        "training_target_variable = training_data[target_variable_name]\n",
        "training_target_variable"
      ],
      "metadata": {
        "colab": {
          "base_uri": "https://localhost:8080/"
        },
        "id": "oI4UPS3An5Zh",
        "outputId": "0bd2f0bc-0231-4fff-cf6b-5ddc7265720a"
      },
      "execution_count": null,
      "outputs": [
        {
          "output_type": "execute_result",
          "data": {
            "text/plain": [
              "0     410\n",
              "1     376\n",
              "2     350\n",
              "3     400\n",
              "4     400\n",
              "     ... \n",
              "59    420\n",
              "60    450\n",
              "61    500\n",
              "62    500\n",
              "63    470\n",
              "Name: ТШХпосле, Length: 64, dtype: int64"
            ]
          },
          "metadata": {},
          "execution_count": 16
        }
      ]
    },
    {
      "cell_type": "markdown",
      "source": [
        "В отдельную переменную training_samples запишем признаки - то есть всю обучающую таблицу, за исключением целевой переменной. Для этого вызовем у переменной training_data метод drop() и удалим столбец \"ТШХпосле\"."
      ],
      "metadata": {
        "id": "_e13QZdZoCZ_"
      }
    },
    {
      "cell_type": "code",
      "source": [
        "training_samples = training_data.drop(target_variable_name, axis=1)"
      ],
      "metadata": {
        "id": "cQyRsuxTodKz"
      },
      "execution_count": null,
      "outputs": []
    },
    {
      "cell_type": "markdown",
      "source": [
        "Проверим, что столбец действительно удалён с помощью методов *head* и *shape*."
      ],
      "metadata": {
        "id": "ich3prsgomco"
      }
    },
    {
      "cell_type": "code",
      "source": [
        "training_samples.head()"
      ],
      "metadata": {
        "colab": {
          "base_uri": "https://localhost:8080/",
          "height": 236
        },
        "id": "gPlgHFwsojsq",
        "outputId": "f4cafa9a-8b30-412d-871a-dfe51d1f6ff3"
      },
      "execution_count": null,
      "outputs": [
        {
          "output_type": "execute_result",
          "data": {
            "text/plain": [
              "   Пробиотик  Возраст  Пол  Рост  Вес        ИМТ  ПлощадьТела  ПредраспССЗ  \\\n",
              "0          0       54    2   151   58  25.437481     1.559736            0   \n",
              "1          0       63    2   165  115  42.240588     2.295830            1   \n",
              "2          0       50    2   159   46  18.195483     1.425365            0   \n",
              "3          0       41    2   166   92  33.386558     2.059666            1   \n",
              "4          0       37    2   161   71  27.390919     1.781931            1   \n",
              "\n",
              "   Курение  Алкоголь  ...  МНОтн  МочКислот  Ддимеры  вчСРБ      ХЛНП  \\\n",
              "0        0         0  ...   0.87        330      120   12.0  3.500000   \n",
              "1        0         0  ...   0.98        240       85    6.5  4.631818   \n",
              "2        0         0  ...   1.01        248      100   40.0  3.220909   \n",
              "3        0         0  ...   0.90        220      125   25.0  2.136364   \n",
              "4        0         0  ...   0.96        340      177   12.0  2.931818   \n",
              "\n",
              "   ИнАтероген  неХЛВП  ШкБорга  ТестEQ  ТШХдо  \n",
              "0    4.875000    3.90        2      11    300  \n",
              "1    4.500000    5.40        2      13    280  \n",
              "2    6.306667    4.73        2      12    300  \n",
              "3    2.676768    2.65        2      12    300  \n",
              "4    3.700000    3.70        2      13    300  \n",
              "\n",
              "[5 rows x 83 columns]"
            ],
            "text/html": [
              "\n",
              "  <div id=\"df-c100d454-7280-4773-8d9b-010aafd8b0a9\">\n",
              "    <div class=\"colab-df-container\">\n",
              "      <div>\n",
              "<style scoped>\n",
              "    .dataframe tbody tr th:only-of-type {\n",
              "        vertical-align: middle;\n",
              "    }\n",
              "\n",
              "    .dataframe tbody tr th {\n",
              "        vertical-align: top;\n",
              "    }\n",
              "\n",
              "    .dataframe thead th {\n",
              "        text-align: right;\n",
              "    }\n",
              "</style>\n",
              "<table border=\"1\" class=\"dataframe\">\n",
              "  <thead>\n",
              "    <tr style=\"text-align: right;\">\n",
              "      <th></th>\n",
              "      <th>Пробиотик</th>\n",
              "      <th>Возраст</th>\n",
              "      <th>Пол</th>\n",
              "      <th>Рост</th>\n",
              "      <th>Вес</th>\n",
              "      <th>ИМТ</th>\n",
              "      <th>ПлощадьТела</th>\n",
              "      <th>ПредраспССЗ</th>\n",
              "      <th>Курение</th>\n",
              "      <th>Алкоголь</th>\n",
              "      <th>...</th>\n",
              "      <th>МНОтн</th>\n",
              "      <th>МочКислот</th>\n",
              "      <th>Ддимеры</th>\n",
              "      <th>вчСРБ</th>\n",
              "      <th>ХЛНП</th>\n",
              "      <th>ИнАтероген</th>\n",
              "      <th>неХЛВП</th>\n",
              "      <th>ШкБорга</th>\n",
              "      <th>ТестEQ</th>\n",
              "      <th>ТШХдо</th>\n",
              "    </tr>\n",
              "  </thead>\n",
              "  <tbody>\n",
              "    <tr>\n",
              "      <th>0</th>\n",
              "      <td>0</td>\n",
              "      <td>54</td>\n",
              "      <td>2</td>\n",
              "      <td>151</td>\n",
              "      <td>58</td>\n",
              "      <td>25.437481</td>\n",
              "      <td>1.559736</td>\n",
              "      <td>0</td>\n",
              "      <td>0</td>\n",
              "      <td>0</td>\n",
              "      <td>...</td>\n",
              "      <td>0.87</td>\n",
              "      <td>330</td>\n",
              "      <td>120</td>\n",
              "      <td>12.0</td>\n",
              "      <td>3.500000</td>\n",
              "      <td>4.875000</td>\n",
              "      <td>3.90</td>\n",
              "      <td>2</td>\n",
              "      <td>11</td>\n",
              "      <td>300</td>\n",
              "    </tr>\n",
              "    <tr>\n",
              "      <th>1</th>\n",
              "      <td>0</td>\n",
              "      <td>63</td>\n",
              "      <td>2</td>\n",
              "      <td>165</td>\n",
              "      <td>115</td>\n",
              "      <td>42.240588</td>\n",
              "      <td>2.295830</td>\n",
              "      <td>1</td>\n",
              "      <td>0</td>\n",
              "      <td>0</td>\n",
              "      <td>...</td>\n",
              "      <td>0.98</td>\n",
              "      <td>240</td>\n",
              "      <td>85</td>\n",
              "      <td>6.5</td>\n",
              "      <td>4.631818</td>\n",
              "      <td>4.500000</td>\n",
              "      <td>5.40</td>\n",
              "      <td>2</td>\n",
              "      <td>13</td>\n",
              "      <td>280</td>\n",
              "    </tr>\n",
              "    <tr>\n",
              "      <th>2</th>\n",
              "      <td>0</td>\n",
              "      <td>50</td>\n",
              "      <td>2</td>\n",
              "      <td>159</td>\n",
              "      <td>46</td>\n",
              "      <td>18.195483</td>\n",
              "      <td>1.425365</td>\n",
              "      <td>0</td>\n",
              "      <td>0</td>\n",
              "      <td>0</td>\n",
              "      <td>...</td>\n",
              "      <td>1.01</td>\n",
              "      <td>248</td>\n",
              "      <td>100</td>\n",
              "      <td>40.0</td>\n",
              "      <td>3.220909</td>\n",
              "      <td>6.306667</td>\n",
              "      <td>4.73</td>\n",
              "      <td>2</td>\n",
              "      <td>12</td>\n",
              "      <td>300</td>\n",
              "    </tr>\n",
              "    <tr>\n",
              "      <th>3</th>\n",
              "      <td>0</td>\n",
              "      <td>41</td>\n",
              "      <td>2</td>\n",
              "      <td>166</td>\n",
              "      <td>92</td>\n",
              "      <td>33.386558</td>\n",
              "      <td>2.059666</td>\n",
              "      <td>1</td>\n",
              "      <td>0</td>\n",
              "      <td>0</td>\n",
              "      <td>...</td>\n",
              "      <td>0.90</td>\n",
              "      <td>220</td>\n",
              "      <td>125</td>\n",
              "      <td>25.0</td>\n",
              "      <td>2.136364</td>\n",
              "      <td>2.676768</td>\n",
              "      <td>2.65</td>\n",
              "      <td>2</td>\n",
              "      <td>12</td>\n",
              "      <td>300</td>\n",
              "    </tr>\n",
              "    <tr>\n",
              "      <th>4</th>\n",
              "      <td>0</td>\n",
              "      <td>37</td>\n",
              "      <td>2</td>\n",
              "      <td>161</td>\n",
              "      <td>71</td>\n",
              "      <td>27.390919</td>\n",
              "      <td>1.781931</td>\n",
              "      <td>1</td>\n",
              "      <td>0</td>\n",
              "      <td>0</td>\n",
              "      <td>...</td>\n",
              "      <td>0.96</td>\n",
              "      <td>340</td>\n",
              "      <td>177</td>\n",
              "      <td>12.0</td>\n",
              "      <td>2.931818</td>\n",
              "      <td>3.700000</td>\n",
              "      <td>3.70</td>\n",
              "      <td>2</td>\n",
              "      <td>13</td>\n",
              "      <td>300</td>\n",
              "    </tr>\n",
              "  </tbody>\n",
              "</table>\n",
              "<p>5 rows × 83 columns</p>\n",
              "</div>\n",
              "      <button class=\"colab-df-convert\" onclick=\"convertToInteractive('df-c100d454-7280-4773-8d9b-010aafd8b0a9')\"\n",
              "              title=\"Convert this dataframe to an interactive table.\"\n",
              "              style=\"display:none;\">\n",
              "        \n",
              "  <svg xmlns=\"http://www.w3.org/2000/svg\" height=\"24px\"viewBox=\"0 0 24 24\"\n",
              "       width=\"24px\">\n",
              "    <path d=\"M0 0h24v24H0V0z\" fill=\"none\"/>\n",
              "    <path d=\"M18.56 5.44l.94 2.06.94-2.06 2.06-.94-2.06-.94-.94-2.06-.94 2.06-2.06.94zm-11 1L8.5 8.5l.94-2.06 2.06-.94-2.06-.94L8.5 2.5l-.94 2.06-2.06.94zm10 10l.94 2.06.94-2.06 2.06-.94-2.06-.94-.94-2.06-.94 2.06-2.06.94z\"/><path d=\"M17.41 7.96l-1.37-1.37c-.4-.4-.92-.59-1.43-.59-.52 0-1.04.2-1.43.59L10.3 9.45l-7.72 7.72c-.78.78-.78 2.05 0 2.83L4 21.41c.39.39.9.59 1.41.59.51 0 1.02-.2 1.41-.59l7.78-7.78 2.81-2.81c.8-.78.8-2.07 0-2.86zM5.41 20L4 18.59l7.72-7.72 1.47 1.35L5.41 20z\"/>\n",
              "  </svg>\n",
              "      </button>\n",
              "      \n",
              "  <style>\n",
              "    .colab-df-container {\n",
              "      display:flex;\n",
              "      flex-wrap:wrap;\n",
              "      gap: 12px;\n",
              "    }\n",
              "\n",
              "    .colab-df-convert {\n",
              "      background-color: #E8F0FE;\n",
              "      border: none;\n",
              "      border-radius: 50%;\n",
              "      cursor: pointer;\n",
              "      display: none;\n",
              "      fill: #1967D2;\n",
              "      height: 32px;\n",
              "      padding: 0 0 0 0;\n",
              "      width: 32px;\n",
              "    }\n",
              "\n",
              "    .colab-df-convert:hover {\n",
              "      background-color: #E2EBFA;\n",
              "      box-shadow: 0px 1px 2px rgba(60, 64, 67, 0.3), 0px 1px 3px 1px rgba(60, 64, 67, 0.15);\n",
              "      fill: #174EA6;\n",
              "    }\n",
              "\n",
              "    [theme=dark] .colab-df-convert {\n",
              "      background-color: #3B4455;\n",
              "      fill: #D2E3FC;\n",
              "    }\n",
              "\n",
              "    [theme=dark] .colab-df-convert:hover {\n",
              "      background-color: #434B5C;\n",
              "      box-shadow: 0px 1px 3px 1px rgba(0, 0, 0, 0.15);\n",
              "      filter: drop-shadow(0px 1px 2px rgba(0, 0, 0, 0.3));\n",
              "      fill: #FFFFFF;\n",
              "    }\n",
              "  </style>\n",
              "\n",
              "      <script>\n",
              "        const buttonEl =\n",
              "          document.querySelector('#df-c100d454-7280-4773-8d9b-010aafd8b0a9 button.colab-df-convert');\n",
              "        buttonEl.style.display =\n",
              "          google.colab.kernel.accessAllowed ? 'block' : 'none';\n",
              "\n",
              "        async function convertToInteractive(key) {\n",
              "          const element = document.querySelector('#df-c100d454-7280-4773-8d9b-010aafd8b0a9');\n",
              "          const dataTable =\n",
              "            await google.colab.kernel.invokeFunction('convertToInteractive',\n",
              "                                                     [key], {});\n",
              "          if (!dataTable) return;\n",
              "\n",
              "          const docLinkHtml = 'Like what you see? Visit the ' +\n",
              "            '<a target=\"_blank\" href=https://colab.research.google.com/notebooks/data_table.ipynb>data table notebook</a>'\n",
              "            + ' to learn more about interactive tables.';\n",
              "          element.innerHTML = '';\n",
              "          dataTable['output_type'] = 'display_data';\n",
              "          await google.colab.output.renderOutput(dataTable, element);\n",
              "          const docLink = document.createElement('div');\n",
              "          docLink.innerHTML = docLinkHtml;\n",
              "          element.appendChild(docLink);\n",
              "        }\n",
              "      </script>\n",
              "    </div>\n",
              "  </div>\n",
              "  "
            ]
          },
          "metadata": {},
          "execution_count": 18
        }
      ]
    },
    {
      "cell_type": "code",
      "source": [
        "training_samples.shape"
      ],
      "metadata": {
        "colab": {
          "base_uri": "https://localhost:8080/"
        },
        "id": "Llv44Y35ouex",
        "outputId": "0507f1d8-a553-4d6f-dd17-0b159e85bb2d"
      },
      "execution_count": null,
      "outputs": [
        {
          "output_type": "execute_result",
          "data": {
            "text/plain": [
              "(64, 83)"
            ]
          },
          "metadata": {},
          "execution_count": 19
        }
      ]
    },
    {
      "cell_type": "markdown",
      "source": [
        "Также удалим столбец с данными высокочувствительного С-реактивного белка (вчСРБ). По информации в нём заполнено лишь 15 из 64 значений, так что он не может учитываться при прогнозировании."
      ],
      "metadata": {
        "id": "noJr9WGQr5P0"
      }
    },
    {
      "cell_type": "code",
      "source": [
        "training_samples = training_samples.drop('вчСРБ', axis=1)"
      ],
      "metadata": {
        "id": "R5-gK-FAsb0Y"
      },
      "execution_count": null,
      "outputs": []
    },
    {
      "cell_type": "markdown",
      "source": [
        "Проверка данных"
      ],
      "metadata": {
        "id": "eeDoHV87stvG"
      }
    },
    {
      "cell_type": "code",
      "source": [
        "training_samples.shape"
      ],
      "metadata": {
        "colab": {
          "base_uri": "https://localhost:8080/"
        },
        "id": "jM9KbDpnsvOj",
        "outputId": "b4a18419-e622-4428-b33c-89f34d04d1fd"
      },
      "execution_count": null,
      "outputs": [
        {
          "output_type": "execute_result",
          "data": {
            "text/plain": [
              "(64, 82)"
            ]
          },
          "metadata": {},
          "execution_count": 22
        }
      ]
    },
    {
      "cell_type": "markdown",
      "source": [
        "**Инициализация решающего алгоритма**\n",
        "\n",
        "Лес решающих деревьев - ансамбль из множества решающих деревьев. Решающее дерево - это алгоритм, иерархически раскладывающий данные на множество бинарных условий. \n",
        "\n",
        "Для создания модели случайного леса вызываем модуль ensemble, затем через точку указываем название алгоритма RandomForestRegressor."
      ],
      "metadata": {
        "id": "EOPmKdprtMsa"
      }
    },
    {
      "cell_type": "code",
      "source": [
        "random_forest_model = ensemble.RandomForestRegressor()\n",
        "random_forest_model.get_params()"
      ],
      "metadata": {
        "id": "MrGtxbeTtrnW"
      },
      "execution_count": null,
      "outputs": []
    },
    {
      "cell_type": "markdown",
      "source": [
        "Вызываем метод fit() у модели и передаем ему на вход два аргумента: таблицу входных признаков и столбец значений целевой переменной - (training_samples, training_target_variable)"
      ],
      "metadata": {
        "id": "wqZQHf3qypEo"
      }
    },
    {
      "cell_type": "code",
      "source": [
        "random_forest_model.fit(training_samples, training_target_variable)"
      ],
      "metadata": {
        "id": "ar41-gAzyzSj"
      },
      "execution_count": null,
      "outputs": []
    }
  ]
}